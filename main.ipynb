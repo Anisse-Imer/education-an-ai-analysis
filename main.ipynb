{
 "cells": [
  {
   "cell_type": "code",
   "execution_count": 29,
   "metadata": {},
   "outputs": [],
   "source": [
    "import pandas as pd\n",
    "import matplotlib.pyplot as plt\n",
    "import numpy as np"
   ]
  },
  {
   "cell_type": "code",
   "execution_count": 30,
   "metadata": {},
   "outputs": [
    {
     "name": "stdout",
     "output_type": "stream",
     "text": [
      "             ID  Q1.AI_knowledge  Q2#1.Internet  Q2#2.Books/Papers  \\\n",
      "count  91.00000        91.000000      91.000000          91.000000   \n",
      "mean   46.00000         5.912088       0.813187           0.351648   \n",
      "std    26.41338         1.970044       0.391921           0.480130   \n",
      "min     1.00000         1.000000       0.000000           0.000000   \n",
      "25%    23.50000         5.000000       1.000000           0.000000   \n",
      "50%    46.00000         6.000000       1.000000           0.000000   \n",
      "75%    68.50000         7.000000       1.000000           1.000000   \n",
      "max    91.00000        10.000000       1.000000           1.000000   \n",
      "\n",
      "       Q2#3.Social_media  Q2#4.Discussions  Q2#5.NotInformed  \\\n",
      "count          91.000000         91.000000         91.000000   \n",
      "mean            0.439560          0.197802          0.065934   \n",
      "std             0.499083          0.400549          0.249542   \n",
      "min             0.000000          0.000000          0.000000   \n",
      "25%             0.000000          0.000000          0.000000   \n",
      "50%             0.000000          0.000000          0.000000   \n",
      "75%             1.000000          0.000000          0.000000   \n",
      "max             1.000000          1.000000          1.000000   \n",
      "\n",
      "       Q3#1.AI_dehumanization  Q3#2.Job_replacement  Q3#3.Problem_solving  \\\n",
      "count               91.000000             91.000000             91.000000   \n",
      "mean                 2.516484              3.197802              4.197802   \n",
      "std                  1.167739              1.213075              1.013462   \n",
      "min                  1.000000              1.000000              1.000000   \n",
      "25%                  2.000000              2.000000              4.000000   \n",
      "50%                  2.000000              3.000000              4.000000   \n",
      "75%                  3.000000              4.000000              5.000000   \n",
      "max                  5.000000              5.000000              5.000000   \n",
      "\n",
      "       ...  Q7.Utility_grade  Q8.Advantage_teaching  Q9.Advantage_learning  \\\n",
      "count  ...         91.000000              91.000000              91.000000   \n",
      "mean   ...          7.439560               1.923077               1.879121   \n",
      "std    ...          2.161321               0.884820               0.680444   \n",
      "min    ...          2.000000               1.000000               1.000000   \n",
      "25%    ...          6.000000               1.000000               1.000000   \n",
      "50%    ...          8.000000               2.000000               2.000000   \n",
      "75%    ...          9.000000               3.000000               2.000000   \n",
      "max    ...         10.000000               3.000000               3.000000   \n",
      "\n",
      "       Q10.Advantage_evaluation   Q11.Disadvantage_educational_process  \\\n",
      "count                  91.000000                             91.000000   \n",
      "mean                    2.252747                              2.098901   \n",
      "std                     0.824532                              1.033387   \n",
      "min                     1.000000                              1.000000   \n",
      "25%                     2.000000                              1.000000   \n",
      "50%                     2.000000                              2.000000   \n",
      "75%                     3.000000                              3.000000   \n",
      "max                     3.000000                              4.000000   \n",
      "\n",
      "       Q12.Gender  Q13.Year_of_study  Q14.Major  Q15.Passed_exams    Q16.GPA  \n",
      "count   91.000000          91.000000  91.000000         91.000000  91.000000  \n",
      "mean     1.351648           1.626374   1.923077          0.747253   7.798901  \n",
      "std      0.480130           0.486446   0.763483          0.436995   0.975306  \n",
      "min      1.000000           1.000000   1.000000          0.000000   5.200000  \n",
      "25%      1.000000           1.000000   1.000000          0.500000   7.200000  \n",
      "50%      1.000000           2.000000   2.000000          1.000000   7.700000  \n",
      "75%      2.000000           2.000000   2.500000          1.000000   8.700000  \n",
      "max      2.000000           2.000000   3.000000          1.000000   9.700000  \n",
      "\n",
      "[8 rows x 33 columns]\n"
     ]
    }
   ],
   "source": [
    "survey_kaggle:pd.DataFrame = pd.read_csv(\"data/survey-kaggle.csv\")\n",
    "print(survey_kaggle.describe())"
   ]
  },
  {
   "cell_type": "code",
   "execution_count": 31,
   "metadata": {},
   "outputs": [
    {
     "name": "stdout",
     "output_type": "stream",
     "text": [
      "Index(['Horodateur', 'Quel est votre niveau d'étude ?',\n",
      "       'Quel est votre niveau en développement (problem solving & software) ?',\n",
      "       'Pratiquez vous le problem solving (compétition de code) ?',\n",
      "       'Vous-arrive t-il de l'utiliser du code générer par l'IA sans pour autant le comprendre ?',\n",
      "       'À quelle fréquence utilisez vous les LLM ?',\n",
      "       'A quelle fin utilisez-vous les LLM ?',\n",
      "       'Quels langages de programmation connaissez-vous?',\n",
      "       'Que va afficher le programme suivant ? ',\n",
      "       'Quel sera le résultat de ce code ? ',\n",
      "       'Que retourne cet appel de fonction ? ',\n",
      "       'Dans quel langage de programmation les exercices de code ont été écrits ?',\n",
      "       'Comment avez-vous résolu les questions de codes ?',\n",
      "       'Vous arrive-t-il de verifier ou de remettre en question les réponses fournies par LLM ?'],\n",
      "      dtype='object')\n"
     ]
    }
   ],
   "source": [
    "survey_amiens:pd.DataFrame = pd.read_csv(\"data/survey-amiens-ue-trans-01.csv\")\n",
    "# print(survey_amiens.describe())\n",
    "print(survey_amiens.columns)"
   ]
  },
  {
   "cell_type": "code",
   "execution_count": 32,
   "metadata": {},
   "outputs": [
    {
     "data": {
      "text/html": [
       "<div>\n",
       "<style scoped>\n",
       "    .dataframe tbody tr th:only-of-type {\n",
       "        vertical-align: middle;\n",
       "    }\n",
       "\n",
       "    .dataframe tbody tr th {\n",
       "        vertical-align: top;\n",
       "    }\n",
       "\n",
       "    .dataframe thead th {\n",
       "        text-align: right;\n",
       "    }\n",
       "</style>\n",
       "<table border=\"1\" class=\"dataframe\">\n",
       "  <thead>\n",
       "    <tr style=\"text-align: right;\">\n",
       "      <th></th>\n",
       "      <th>llm-use-frequency</th>\n",
       "      <th>evaluation_max</th>\n",
       "      <th>evaluation_mean</th>\n",
       "    </tr>\n",
       "  </thead>\n",
       "  <tbody>\n",
       "    <tr>\n",
       "      <th>1</th>\n",
       "      <td>Jamais</td>\n",
       "      <td>2</td>\n",
       "      <td>2.000</td>\n",
       "    </tr>\n",
       "    <tr>\n",
       "      <th>0</th>\n",
       "      <td>Assez souvent</td>\n",
       "      <td>3</td>\n",
       "      <td>2.200</td>\n",
       "    </tr>\n",
       "    <tr>\n",
       "      <th>2</th>\n",
       "      <td>Souvent</td>\n",
       "      <td>3</td>\n",
       "      <td>2.375</td>\n",
       "    </tr>\n",
       "    <tr>\n",
       "      <th>3</th>\n",
       "      <td>Trés souvent</td>\n",
       "      <td>2</td>\n",
       "      <td>1.500</td>\n",
       "    </tr>\n",
       "  </tbody>\n",
       "</table>\n",
       "</div>"
      ],
      "text/plain": [
       "  llm-use-frequency  evaluation_max  evaluation_mean\n",
       "1            Jamais               2            2.000\n",
       "0     Assez souvent               3            2.200\n",
       "2           Souvent               3            2.375\n",
       "3      Trés souvent               2            1.500"
      ]
     },
     "execution_count": 32,
     "metadata": {},
     "output_type": "execute_result"
    }
   ],
   "source": [
    "survey_amiens.columns = [   \"timestamp\", \n",
    "                            \"year\",\n",
    "                            \"software-level\",\n",
    "                            \"probleme-solving\",\n",
    "                            \"code-generated-without-understanding\",\n",
    "                            \"llm-use-frequency\",\n",
    "                            \"llm-use-type\",\n",
    "                            \"programming-language\",\n",
    "                            \"test-code-1\",\n",
    "                            \"test-code-2\",\n",
    "                            \"test-code-3\",\n",
    "                            \"test-language\",\n",
    "                            \"test-code-method\",\n",
    "                            \"llm-doubt\"]\n",
    "\n",
    "survey_amiens[\"evaluation\"] = 0\n",
    "survey_amiens[\"test-code-2\"] = survey_amiens[\"test-code-2\"].str.replace('\"', \"\")\n",
    "survey_amiens.loc[survey_amiens['test-code-1'] == \"2 4\", 'evaluation'] += 1\n",
    "survey_amiens.loc[survey_amiens['test-code-2'] == \"[1, 9, 25]\", 'evaluation'] += 1\n",
    "survey_amiens.loc[survey_amiens['test-code-3'] == 7, 'evaluation'] += 1\n",
    "\n",
    "survey_max = survey_amiens.groupby([\"llm-use-frequency\", ]).aggregate({\"evaluation\" : \"max\"}).reset_index()\n",
    "survey_mean = survey_amiens.groupby([\"llm-use-frequency\", ]).aggregate({\"evaluation\" : \"mean\"}).reset_index()\n",
    "\n",
    "survey_metrics = survey_max.join(survey_mean, lsuffix=\"_max\", rsuffix=\"_mean\")\n",
    "del survey_metrics[\"llm-use-frequency_mean\"]\n",
    "survey_metrics.columns = [\"llm-use-frequency\", \"evaluation_max\", \"evaluation_mean\"]\n",
    "\n",
    "\n",
    "custom_order = [\"Jamais\", \"Assez souvent\", \"Souvent\", \"Trés souvent\"]\n",
    "survey_metrics[\"llm-use-frequency\"] = pd.Categorical(survey_metrics[\"llm-use-frequency\"], categories=custom_order, ordered=True)\n",
    "survey_metrics = survey_metrics.sort_values(\"llm-use-frequency\")\n",
    "survey_metrics"
   ]
  },
  {
   "cell_type": "code",
   "execution_count": 33,
   "metadata": {},
   "outputs": [
    {
     "data": {
      "image/png": "[encoded data removed]",
      "text/plain": [
       "<Figure size 800x600 with 1 Axes>"
      ]
     },
     "metadata": {},
     "output_type": "display_data"
    }
   ],
   "source": [
    "# Création du graphique\n",
    "x = np.arange(len(survey_metrics[\"llm-use-frequency\"]))  # Les positions des catégories sur l'axe X\n",
    "width = 0.4  # Largeur des barres\n",
    "\n",
    "fig, ax = plt.subplots(figsize=(8, 6))\n",
    "\n",
    "# Ajouter les barres pour `evaluation_max` et `evaluation_mean`\n",
    "ax.bar(x - width/2, survey_metrics[\"evaluation_max\"], width, label=\"Max\", color=\"skyblue\")\n",
    "ax.bar(x + width/2, survey_metrics[\"evaluation_mean\"], width, label=\"Mean\", color=\"orange\")\n",
    "\n",
    "# Ajouter des étiquettes et un titre\n",
    "ax.set_xlabel(\"Fréquence d'utilisation\", fontsize=12)\n",
    "ax.set_ylabel(\"Évaluation\", fontsize=12)\n",
    "ax.set_title(\"Évaluations Maximales et Moyennes\", fontsize=14)\n",
    "ax.set_xticks(x)\n",
    "ax.set_xticklabels(survey_metrics[\"llm-use-frequency\"], rotation=15, ha=\"right\")\n",
    "ax.legend()\n",
    "\n",
    "# Afficher le graphique\n",
    "plt.tight_layout()\n",
    "plt.show()"
   ]
  }
 ],
 "metadata": {
  "kernelspec": {
   "display_name": "Python 3",
   "language": "python",
   "name": "python3"
  },
  "language_info": {
   "codemirror_mode": {
    "name": "ipython",
    "version": 3
   },
   "file_extension": ".py",
   "mimetype": "text/x-python",
   "name": "python",
   "nbconvert_exporter": "python",
   "pygments_lexer": "ipython3",
   "version": "3.10.12"
  }
 },
 "nbformat": 4,
 "nbformat_minor": 2
}
